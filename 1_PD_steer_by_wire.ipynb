{
 "cells": [
  {
   "cell_type": "markdown",
   "id": "06b6cb7f",
   "metadata": {},
   "source": [
    "# Hardware lab 1: implementing your control law / Steer by wire\n",
    "\n",
    "In this first hardware lab we are first going to work without the passive arms of our robot and only focus on the motors. You have 2 objectives for the lab: The first one is to tune your PD gains to implement an accurate torque control on the motors. The second one is to reproduce a [steer-by-wire](https://en.wikipedia.org/wiki/Steer-by-wire) system. This should allow you to become familiar with the API of the motors\n",
    "\n",
    "\n",
    "## Preliminaries\n",
    "First, listen to Garry or Katy for the first few minutes of the lab while they provide some guidance on the platform.\n",
    "\n",
    "## Communicating with the device\n",
    "The DICE machines are connected to the platform using a CAN device. This is hidden within a high-level API but you can have a look at the code if you are interested in seeing how all of this works.\n",
    "\n",
    "The API is presented in [AROMotorControlAPI.md](https://github.com/ediaro23/hardwarelab/blob/main/AROMotorControlAPI.md). The only methods that we need are `readPosition` and `applyCurrentToMotor`.\n",
    "\n",
    "Each method has a `motorid` parameter, taking the value 1 or 2, which points to the motor that you wish to control.\n",
    "\n",
    "Therefore, to read the position (joint angle value) or a motor, simply call:\n",
    "\n"
   ]
  },
  {
   "cell_type": "code",
   "execution_count": null,
   "id": "bee944fa",
   "metadata": {},
   "outputs": [],
   "source": [
    "from motor_control.AROMotorControl import AROMotorControl\n",
    "\n",
    "mc = AROMotorControl()\n",
    "mc.readPosition(motorid=1)"
   ]
  },
  {
   "cell_type": "markdown",
   "id": "8a8134da",
   "metadata": {},
   "source": [
    "The returned value is an angle value in degrees, between 0 and 360.\n",
    "\n",
    "\n",
    "You will have observed that the API only proposes a method to send a current command, while we expect to control or robots in torque. The torque is proportional to the current through the relationship $\\tau = k I $, with $\\tau$ the torque, $I$ the current (in Amperes), and k a constant given by the manufacturer. In our case, the torque constant provided by the [manufacturer](https://www.myactuator.com/product-page/rmd-l-5010) is $0.16$, which trivially gives you $I = \\frac{\\tau}{0.16}$. We will trust the manufacturer although this might change from a motor to the other (and is yet another source of approximation).\n",
    "\n",
    "\n",
    "## Question 1\n",
    "Write a function that performs one iteration of a control loop: Given a desired position and a motor, read the current state and perform one step of PD control to bring the motor to the desired state. \n",
    "<mark>Important:</mark> Please make sure that you execute this or any other function in a try-catch block (as shown in [template.py](./template.py)) so that if for any reason you have to terminate your program, the motors stop. Otherwise the motors will continue to execute the last command applied to them.\n",
    "\n",
    "\n",
    "## Question 2\n",
    "\n",
    "Test this function within a loop and plot the obtained trajectory. Tune your P and D gains accordingly until you reach a desired behaviour. We are going to control the system at a frequency of 1 khz, which means that each tick should last 1 ms. As for the rununtil function in the lab, the control loop should have a structure like this one:\n",
    "\n"
   ]
  },
  {
   "cell_type": "code",
   "execution_count": null,
   "id": "82bbe3e9",
   "metadata": {},
   "outputs": [],
   "source": [
    "import time\n",
    "t = time.perf_counter()\n",
    "N=int(10e3) #10 seconds\n",
    "dt = 1. / 1e3\n",
    "wait = 1. / 1e4\n",
    "for i in range(N):\n",
    "    t +=dt\n",
    "    #run your code\n",
    "    while(time.perf_counter()-t<dt):\n",
    "        pass\n",
    "        time.sleep(wait)"
   ]
  },
  {
   "cell_type": "markdown",
   "id": "e12efeb6",
   "metadata": {},
   "source": [
    "You should of course tune your gains accordingly for the rest of the labs, but this is also the occasion to voluntarily play with the values and observe what happens when you obtain oscillatory behaviours for instance. This will become interesting in particular for the next question.\n",
    "\n",
    "## Question 3\n",
    "Now, write a 30s control loop that does the following:\n",
    "+ Motor 1 is configured to track the position of motor 2\n",
    "+ Motor 2 is configured to track the position of motor 1\n",
    "\n",
    "Manually mess around with the motors while the loop is running, you should feel a haptic feedback. A similar system is implemented in some of the recent cars where the steering wheel and the wheels are no longer mechanically connected."
   ]
  }
 ],
 "metadata": {
  "kernelspec": {
   "display_name": "Python 3 (ipykernel)",
   "language": "python",
   "name": "python3"
  },
  "language_info": {
   "codemirror_mode": {
    "name": "ipython",
    "version": 3
   },
   "file_extension": ".py",
   "mimetype": "text/x-python",
   "name": "python",
   "nbconvert_exporter": "python",
   "pygments_lexer": "ipython3",
   "version": "3.8.10"
  }
 },
 "nbformat": 4,
 "nbformat_minor": 5
}
